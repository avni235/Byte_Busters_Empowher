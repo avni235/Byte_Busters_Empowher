{
 "cells": [
  {
   "cell_type": "code",
   "execution_count": 12,
   "id": "c32749e1",
   "metadata": {},
   "outputs": [],
   "source": [
    "import numpy as np\n",
    "from sklearn.model_selection import train_test_split\n",
    "from sklearn.ensemble import RandomForestRegressor\n",
    "from sklearn.metrics import mean_squared_error\n",
    "import matplotlib.pyplot as plt\n",
    "from PIL import Image\n",
    "import os\n",
    "\n"
   ]
  },
  {
   "cell_type": "code",
   "execution_count": 13,
   "id": "bd6f6189",
   "metadata": {},
   "outputs": [],
   "source": [
    "data=pd.read_csv(\"model.csv\")\n"
   ]
  },
  {
   "cell_type": "code",
   "execution_count": 14,
   "id": "ff9f4c75",
   "metadata": {},
   "outputs": [
    {
     "data": {
      "text/html": [
       "<div>\n",
       "<style scoped>\n",
       "    .dataframe tbody tr th:only-of-type {\n",
       "        vertical-align: middle;\n",
       "    }\n",
       "\n",
       "    .dataframe tbody tr th {\n",
       "        vertical-align: top;\n",
       "    }\n",
       "\n",
       "    .dataframe thead th {\n",
       "        text-align: right;\n",
       "    }\n",
       "</style>\n",
       "<table border=\"1\" class=\"dataframe\">\n",
       "  <thead>\n",
       "    <tr style=\"text-align: right;\">\n",
       "      <th></th>\n",
       "      <th>percentage</th>\n",
       "      <th>level</th>\n",
       "      <th>harm_rate</th>\n",
       "      <th>plants</th>\n",
       "    </tr>\n",
       "  </thead>\n",
       "  <tbody>\n",
       "    <tr>\n",
       "      <th>0</th>\n",
       "      <td>10</td>\n",
       "      <td>good</td>\n",
       "      <td>5.50%</td>\n",
       "      <td>Chlorella</td>\n",
       "    </tr>\n",
       "    <tr>\n",
       "      <th>1</th>\n",
       "      <td>11</td>\n",
       "      <td>good</td>\n",
       "      <td>7.50%</td>\n",
       "      <td>Chlorella</td>\n",
       "    </tr>\n",
       "    <tr>\n",
       "      <th>2</th>\n",
       "      <td>12</td>\n",
       "      <td>good</td>\n",
       "      <td>7.50%</td>\n",
       "      <td>Chlorella</td>\n",
       "    </tr>\n",
       "    <tr>\n",
       "      <th>3</th>\n",
       "      <td>13</td>\n",
       "      <td>good</td>\n",
       "      <td>7.50%</td>\n",
       "      <td>Chlorella</td>\n",
       "    </tr>\n",
       "    <tr>\n",
       "      <th>4</th>\n",
       "      <td>14</td>\n",
       "      <td>good</td>\n",
       "      <td>7.50%</td>\n",
       "      <td>Chlorella</td>\n",
       "    </tr>\n",
       "  </tbody>\n",
       "</table>\n",
       "</div>"
      ],
      "text/plain": [
       "   percentage level harm_rate     plants\n",
       "0          10  good     5.50%  Chlorella\n",
       "1          11  good     7.50%  Chlorella\n",
       "2          12  good     7.50%  Chlorella\n",
       "3          13  good     7.50%  Chlorella\n",
       "4          14  good     7.50%  Chlorella"
      ]
     },
     "execution_count": 14,
     "metadata": {},
     "output_type": "execute_result"
    }
   ],
   "source": [
    "data.head()"
   ]
  },
  {
   "cell_type": "code",
   "execution_count": 42,
   "id": "0bfd6a80",
   "metadata": {},
   "outputs": [
    {
     "data": {
      "text/plain": [
       "<bound method DataFrame.info of     percentage  level harm_rate       plants\n",
       "0           10   good     5.50%    Chlorella\n",
       "1           11   good     7.50%    Chlorella\n",
       "2           12   good     7.50%    Chlorella\n",
       "3           13   good     7.50%    Chlorella\n",
       "4           14   good     7.50%    Chlorella\n",
       "..         ...    ...       ...          ...\n",
       "86          96  worst       96%  Cryptomonas\n",
       "87          97  worst       97%  Cryptomonas\n",
       "88          98  worst       98%    Nitzschia\n",
       "89          99  worst       99%    Nitzschia\n",
       "90         100  worst      100%    Nitzschia\n",
       "\n",
       "[91 rows x 4 columns]>"
      ]
     },
     "execution_count": 42,
     "metadata": {},
     "output_type": "execute_result"
    }
   ],
   "source": [
    "data.info"
   ]
  },
  {
   "cell_type": "code",
   "execution_count": 44,
   "id": "ae0c6ced",
   "metadata": {},
   "outputs": [
    {
     "data": {
      "text/plain": [
       "Index(['percentage', 'level', 'harm_rate', 'plants'], dtype='object')"
      ]
     },
     "execution_count": 44,
     "metadata": {},
     "output_type": "execute_result"
    }
   ],
   "source": [
    "data.columns"
   ]
  },
  {
   "cell_type": "code",
   "execution_count": 88,
   "id": "65bd20f8",
   "metadata": {},
   "outputs": [
    {
     "data": {
      "text/plain": [
       "10"
      ]
     },
     "execution_count": 88,
     "metadata": {},
     "output_type": "execute_result"
    }
   ],
   "source": [
    "import cv2\n",
    "path='color'\n",
    "images=os.listdir(path)\n",
    "type(images)\n",
    "len(images)"
   ]
  },
  {
   "cell_type": "code",
   "execution_count": 90,
   "id": "be6d5843",
   "metadata": {},
   "outputs": [
    {
     "data": {
      "image/png": "[encoded data removed]",
      "text/plain": [
       "<Figure size 640x480 with 10 Axes>"
      ]
     },
     "metadata": {},
     "output_type": "display_data"
    }
   ],
   "source": [
    "fig,axs=plt.subplots(nrows=2,ncols=5)\n",
    "axs=axs.flatten()\n",
    "for i in range(10):\n",
    "    filepath=os.path.join('C:/Users/user/Desktop/New folder/task9/color/',images[i])\n",
    "    img=Image.open(filepath)\n",
    "    axs [i].imshow(img)\n",
    "plt.show()    "
   ]
  },
  {
   "cell_type": "code",
   "execution_count": 86,
   "id": "8e859671",
   "metadata": {},
   "outputs": [
    {
     "data": {
      "text/plain": [
       "(2, 5)"
      ]
     },
     "execution_count": 86,
     "metadata": {},
     "output_type": "execute_result"
    }
   ],
   "source": [
    "axs.shape"
   ]
  },
  {
   "cell_type": "code",
   "execution_count": 112,
   "id": "d85f5c17",
   "metadata": {},
   "outputs": [
    {
     "data": {
      "image/png": "[encoded data removed]",
      "text/plain": [
       "<Figure size 640x480 with 1 Axes>"
      ]
     },
     "metadata": {},
     "output_type": "display_data"
    },
    {
     "name": "stdout",
     "output_type": "stream",
     "text": [
      "    percentage  level harm_rate      plants\n",
      "0           10    NaN     5.50%   Chlorella\n",
      "1           11    NaN     7.50%   Chlorella\n",
      "2           12    NaN     7.50%   Chlorella\n",
      "3           13    NaN     7.50%   Chlorella\n",
      "4           14    NaN     7.50%   Chlorella\n",
      "5           15    NaN     7.50%   Chlorella\n",
      "6           16    NaN       10%  Spirulina \n",
      "7           17    NaN       10%  Spirulina \n",
      "8           18    NaN       10%  Spirulina \n",
      "9           19    NaN       10%     Diatoms\n",
      "10          20    NaN       10%     Diatoms\n"
     ]
    }
   ],
   "source": [
    "filtered_data = data[(data['percentage'] >= 10) & (data['percentage'] <= 20)]\n",
    "\n",
    "if not filtered_data.empty:\n",
    "    image_path = 'C:/Users/user/Desktop/New folder/task9/color/10th.png'\n",
    "    img = Image.open( image_path)\n",
    "    plt.imshow(img)\n",
    "    plt.show()\n",
    "    print(filtered_data)\n",
    "else:\n",
    "    print(\"No data within the specified range.\")\n"
   ]
  },
  {
   "cell_type": "code",
   "execution_count": 113,
   "id": "39b71db4",
   "metadata": {},
   "outputs": [
    {
     "data": {
      "image/png": "[encoded data removed]",
      "text/plain": [
       "<Figure size 640x480 with 1 Axes>"
      ]
     },
     "metadata": {},
     "output_type": "display_data"
    },
    {
     "name": "stdout",
     "output_type": "stream",
     "text": [
      "    percentage  level harm_rate                   plants\n",
      "11          21    NaN    11.70%                  Diatoms\n",
      "12          22    NaN       14%               Macroalgae\n",
      "13          23    NaN       16%               Macroalgae\n",
      "14          24    NaN    17.35%               Macroalgae\n",
      "15          25    NaN       19%                     Ulva\n",
      "16          26    NaN       21%                     Ulva\n",
      "17          27    NaN    22.90%                     Ulva\n",
      "18          28    NaN       25%                 Porphyra\n",
      "19          29    NaN       27%                 Porphyra\n",
      "20          30    NaN    28.45%                 Porphyra\n",
      "21          31    NaN       30%                  Euglena\n",
      "22          32    NaN       32%                  Euglena\n",
      "23          33    NaN    34.00%                  Euglena\n",
      "24          34    NaN       36%        Dunaliella salina\n",
      "25          35    NaN       38%        Dunaliella salina\n",
      "26          36    NaN    39.55%        Dunaliella salina\n",
      "27          37    NaN       41%  Haematococcus pluvialis\n",
      "28          38    NaN       43%  Haematococcus pluvialis\n",
      "29          39    NaN    45.10%  Haematococcus pluvialis\n",
      "30          40    NaN       47%             Oscillatoria\n"
     ]
    }
   ],
   "source": [
    "filtered_data = data[(data['percentage'] >= 21) & (data['percentage'] <= 40)]\n",
    "\n",
    "if not filtered_data.empty:\n",
    "    image_path = 'C:/Users/user/Desktop/New folder/task9/color/9th.png'\n",
    "    img = Image.open( image_path)\n",
    "    plt.imshow(img)\n",
    "    plt.show()\n",
    "    print(filtered_data)\n",
    "else:\n",
    "    print(\"No data within the specified range.\")\n"
   ]
  },
  {
   "cell_type": "code",
   "execution_count": 114,
   "id": "65f48ba0",
   "metadata": {},
   "outputs": [
    {
     "data": {
      "image/png": "[encoded data removed]",
      "text/plain": [
       "<Figure size 640x480 with 1 Axes>"
      ]
     },
     "metadata": {},
     "output_type": "display_data"
    },
    {
     "name": "stdout",
     "output_type": "stream",
     "text": [
      "    percentage  level harm_rate                plants\n",
      "31          41    NaN       49%          Oscillatoria\n",
      "32          42    NaN    50.65%          Oscillatoria\n",
      "33          43    NaN       53%           Scenedesmus\n",
      "34          44    NaN       54%           Scenedesmus\n",
      "35          45    NaN    56.20%           Scenedesmus\n",
      "36          46    NaN       58%       Nannochloropsis\n",
      "37          47    NaN       60%       Nannochloropsis\n",
      "38          48    NaN    61.75%       Nannochloropsis\n",
      "39          49    NaN       64%       Nannochloropsis\n",
      "40          50    NaN       65%  Botryococcus braunii\n",
      "41          51    NaN    67.30%  Botryococcus braunii\n",
      "42          52    NaN       69%  Botryococcus braunii\n",
      "43          53    NaN       71%  Botryococcus braunii\n",
      "44          54    NaN    72.85%           Chaetoceros\n",
      "45          55    NaN       75%           Chaetoceros\n",
      "46          56    NaN       76%           Chaetoceros\n",
      "47          57    NaN       77%           Chaetoceros\n",
      "48          58    NaN       78%    Isochrysis galbana\n",
      "49          59    NaN       79%    Isochrysis galbana\n",
      "50          60    NaN       80%    Isochrysis galbana\n"
     ]
    }
   ],
   "source": [
    "filtered_data = data[(data['percentage'] >= 41) & (data['percentage'] <= 60)]\n",
    "\n",
    "if not filtered_data.empty:\n",
    "    image_path = 'C:/Users/user/Desktop/New folder/task9/color/8th.png'\n",
    "    img = Image.open( image_path)\n",
    "    plt.imshow(img)\n",
    "    plt.show()\n",
    "    print(filtered_data)\n",
    "else:\n",
    "    print(\"No data within the specified range.\")"
   ]
  },
  {
   "cell_type": "code",
   "execution_count": 116,
   "id": "10478aeb",
   "metadata": {},
   "outputs": [
    {
     "data": {
      "image/png": "[encoded data removed]",
      "text/plain": [
       "<Figure size 640x480 with 1 Axes>"
      ]
     },
     "metadata": {},
     "output_type": "display_data"
    },
    {
     "name": "stdout",
     "output_type": "stream",
     "text": [
      "    percentage  level harm_rate                     plants\n",
      "51          61    NaN       81%         Isochrysis galbana\n",
      "52          62    NaN       82%         Isochrysis galbana\n",
      "53          63    NaN       84%                   Anabaena\n",
      "54          64    NaN       85%                   Anabaena\n",
      "55          65    NaN       86%                   Anabaena\n",
      "56          66    NaN       87%                   Anabaena\n",
      "57          67    NaN       88%                   Anabaena\n",
      "58          68    NaN       89%    Neochloris oleoabundans\n",
      "59          69    NaN       90%    Neochloris oleoabundans\n",
      "60          70    NaN       90%    Neochloris oleoabundans\n",
      "61          71    NaN       90%    Neochloris oleoabundans\n",
      "62          72    NaN       90%    Neochloris oleoabundans\n",
      "63          73    NaN       90%  Selenastrum capricornutum\n",
      "64          74    NaN       90%  Selenastrum capricornutum\n",
      "65          75    NaN       90%  Selenastrum capricornutum\n"
     ]
    }
   ],
   "source": [
    "filtered_data = data[(data['percentage'] >= 61) & (data['percentage'] <= 75)]\n",
    "\n",
    "if not filtered_data.empty:\n",
    "    image_path = 'C:/Users/user/Desktop/New folder/task9/color/7th.png'\n",
    "    img = Image.open( image_path)\n",
    "    plt.imshow(img)\n",
    "    plt.show()\n",
    "    print(filtered_data)\n",
    "else:\n",
    "    print(\"No data within the specified range.\")"
   ]
  },
  {
   "cell_type": "code",
   "execution_count": 117,
   "id": "da68a2a2",
   "metadata": {},
   "outputs": [
    {
     "data": {
      "image/png": "[encoded data removed]",
      "text/plain": [
       "<Figure size 640x480 with 1 Axes>"
      ]
     },
     "metadata": {},
     "output_type": "display_data"
    },
    {
     "name": "stdout",
     "output_type": "stream",
     "text": [
      "    percentage  level harm_rate                     plants\n",
      "66          76    NaN       90%  Selenastrum capricornutum\n",
      "67          77    NaN       90%                Desmodesmus\n",
      "68          78    NaN       90%                Desmodesmus\n",
      "69          79    NaN       90%                Desmodesmus\n",
      "70          80    NaN       90%                Desmodesmus\n",
      "71          81    NaN       90%                Desmodesmus\n",
      "72          82    NaN       90%                 Pediastrum\n",
      "73          83    NaN       90%                 Pediastrum\n",
      "74          84    NaN       90%                 Pediastrum\n",
      "75          85    NaN       90%                 Pediastrum\n",
      "76          86    NaN       90%                 Pediastrum\n",
      "77          87    NaN       90%              Thalassiosira\n",
      "78          88    NaN       90%              Thalassiosira\n",
      "79          89    NaN       90%              Thalassiosira\n",
      "80          90    NaN       90%              Thalassiosira\n",
      "81          91    NaN       91%     Botryococcus sudeticus\n",
      "82          92    NaN       92%     Botryococcus sudeticus\n"
     ]
    }
   ],
   "source": [
    "filtered_data = data[(data['percentage'] >= 76) & (data['percentage'] <= 92)]\n",
    "\n",
    "if not filtered_data.empty:\n",
    "    image_path = 'C:/Users/user/Desktop/New folder/task9/color/3rd.png'\n",
    "    img = Image.open( image_path)\n",
    "    plt.imshow(img)\n",
    "    plt.show()\n",
    "    print(filtered_data)\n",
    "else:\n",
    "    print(\"No data within the specified range.\")"
   ]
  },
  {
   "cell_type": "code",
   "execution_count": 118,
   "id": "3ebdc2c7",
   "metadata": {},
   "outputs": [
    {
     "data": {
      "image/png": "[encoded data removed]",
      "text/plain": [
       "<Figure size 640x480 with 1 Axes>"
      ]
     },
     "metadata": {},
     "output_type": "display_data"
    },
    {
     "name": "stdout",
     "output_type": "stream",
     "text": [
      "    percentage  level harm_rate                  plants\n",
      "83          93    NaN       93%  Botryococcus sudeticus\n",
      "84          94    NaN       94%  Botryococcus sudeticus\n",
      "85          95    NaN       95%             Cryptomonas\n",
      "86          96    NaN       96%             Cryptomonas\n",
      "87          97    NaN       97%             Cryptomonas\n",
      "88          98    NaN       98%               Nitzschia\n",
      "89          99    NaN       99%               Nitzschia\n",
      "90         100    NaN      100%               Nitzschia\n"
     ]
    }
   ],
   "source": [
    "filtered_data = data[(data['percentage'] >= 93) & (data['percentage'] <= 100)]\n",
    "\n",
    "if not filtered_data.empty:\n",
    "    image_path = 'C:/Users/user/Desktop/New folder/task9/color/1st.png'\n",
    "    img = Image.open( image_path)\n",
    "    plt.imshow(img)\n",
    "    plt.show()\n",
    "    print(filtered_data)\n",
    "else:\n",
    "    print(\"No data within the specified range.\")\n",
    "    "
   ]
  },
  {
   "cell_type": "code",
   "execution_count": null,
   "id": "6da0620c",
   "metadata": {},
   "outputs": [],
   "source": []
  }
 ],
 "metadata": {
  "kernelspec": {
   "display_name": "Python 3 (ipykernel)",
   "language": "python",
   "name": "python3"
  },
  "language_info": {
   "codemirror_mode": {
    "name": "ipython",
    "version": 3
   },
   "file_extension": ".py",
   "mimetype": "text/x-python",
   "name": "python",
   "nbconvert_exporter": "python",
   "pygments_lexer": "ipython3",
   "version": "3.10.9"
  }
 },
 "nbformat": 4,
 "nbformat_minor": 5
}
